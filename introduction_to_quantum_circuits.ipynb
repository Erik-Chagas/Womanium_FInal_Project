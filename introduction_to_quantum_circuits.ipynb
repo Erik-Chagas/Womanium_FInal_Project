{
 "cells": [
  {
   "cell_type": "code",
   "execution_count": 2,
   "metadata": {},
   "outputs": [],
   "source": [
    "import pennylane as qml"
   ]
  },
  {
   "cell_type": "markdown",
   "metadata": {},
   "source": [
    "The code below is a quantum function with all the gates from the circuit shown below. However, the gates are out of order! Re-arrange the lines of the function to match the order of operations in the circuit."
   ]
  },
  {
   "cell_type": "code",
   "execution_count": 3,
   "metadata": {},
   "outputs": [],
   "source": [
    "def my_circuit(theta, phi):\n",
    "\n",
    "    qml.CNOT(wires=[0, 1])\n",
    "    qml.RX(theta, wires=2)\n",
    "    qml.Hadamard(wires=0)\n",
    "    qml.CNOT(wires=[2, 0])\n",
    "    qml.RY(phi, wires=1)\n",
    "    \n",
    "    return qml.probs(wires=[0, 1, 2])\n"
   ]
  },
  {
   "cell_type": "code",
   "execution_count": 4,
   "metadata": {},
   "outputs": [
    {
     "data": {
      "text/plain": [
       "tensor([9.87560268e-01, 0.00000000e+00, 0.00000000e+00, 2.47302134e-03,\n",
       "        2.48960206e-05, 0.00000000e+00, 0.00000000e+00, 9.94181506e-03], requires_grad=True)"
      ]
     },
     "execution_count": 4,
     "metadata": {},
     "output_type": "execute_result"
    }
   ],
   "source": [
    "# This creates a device with three wires on which PennyLane can run computations\n",
    "dev = qml.device(\"default.qubit\", wires=3)\n",
    "\n",
    "\n",
    "def my_circuit_2(theta, phi, omega):\n",
    "    # Here are two examples, so you can see the format:\n",
    "    qml.RX(theta, wires=0)\n",
    "    qml.RY(phi, wires=1)\n",
    "    qml.RZ(omega, wires=2)\n",
    "    qml.CNOT(wires=[0, 1])\n",
    "    qml.CNOT(wires=[1, 2])\n",
    "    qml.CNOT(wires=[2, 0])\n",
    "\n",
    "\n",
    "    return qml.probs(wires=[0, 1, 2])\n",
    "\n",
    "\n",
    "# This creates a QNode, binding the function and device\n",
    "my_qnode = qml.QNode(my_circuit_2, dev)\n",
    "\n",
    "# We set up some values for the input parameters\n",
    "theta, phi, omega = 0.1, 0.2, 0.3\n",
    "\n",
    "# Now we can execute the QNode by calling it like we would a regular function\n",
    "my_qnode(theta, phi, omega)"
   ]
  },
  {
   "cell_type": "code",
   "execution_count": 5,
   "metadata": {},
   "outputs": [],
   "source": [
    "dev = qml.device(\"default.qubit\", wires=3)\n",
    "\n",
    "\n",
    "# DECORATE THE FUNCTION BELOW TO TURN IT INTO A QNODE\n",
    "\n",
    "@qml.qnode(dev)\n",
    "def my_circuit(theta, phi, omega):\n",
    "    qml.RX(theta, wires=0)\n",
    "    qml.RY(phi, wires=1)\n",
    "    qml.RZ(omega, wires=2)\n",
    "    qml.CNOT(wires=[0, 1])\n",
    "    qml.CNOT(wires=[1, 2])\n",
    "    qml.CNOT(wires=[2, 0])\n",
    "    return qml.probs(wires=[0, 1, 2])\n",
    "\n",
    "\n",
    "theta, phi, omega = 0.1, 0.2, 0.3\n"
   ]
  }
 ],
 "metadata": {
  "kernelspec": {
   "display_name": "env",
   "language": "python",
   "name": "python3"
  },
  "language_info": {
   "codemirror_mode": {
    "name": "ipython",
    "version": 3
   },
   "file_extension": ".py",
   "mimetype": "text/x-python",
   "name": "python",
   "nbconvert_exporter": "python",
   "pygments_lexer": "ipython3",
   "version": "3.10.11"
  }
 },
 "nbformat": 4,
 "nbformat_minor": 2
}
